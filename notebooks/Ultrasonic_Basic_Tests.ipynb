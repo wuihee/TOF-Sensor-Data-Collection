{
 "cells": [
  {
   "cell_type": "markdown",
   "metadata": {},
   "source": [
    "# Ultrasonic Basic Tests\n",
    "\n",
    "## Objective\n",
    "\n",
    "Evaluate the A02YYUW Ultrasonic Sensor's suitability for the project by testing its ability to measure various distances under different lighting conditions.\n",
    "\n",
    "## Experiment Details\n",
    "\n",
    "### Experiment Setup\n",
    "\n",
    "- **Sensor Positioning**: At regular 0.5m intervals ranging from 0.5m to 5.0m, with the sensor directed at a wall.\n",
    "- **Test Environments**: Indoors and outdoors.\n",
    "- **Data Collection**: Each test generated approximately 500 distance measurement points.\n",
    "\n",
    "### Data Extraction\n",
    "\n",
    "- **Indoors & Outdoors**: Employed a Raspberry Pi and custom Python code to save the data into a text file. \n",
    "\n",
    "## Data Strucutre and Cleanup\n",
    "\n",
    "- **File Organization**: Each distance interval (e.g., 0.5m, 1.0m, etc.) stores its measurements in a separate file located in their respective folders.\n",
    "- **Raspberry Pi**: Every measurement from the Raspberry Pi includes time, distance and signal strength:\n",
    "\n",
    "    ```text\n",
    "    09:48:30 1030 659\n",
    "    ```\n",
    "\n",
    "- I keep the distances and filter out time and signal strength.\n",
    "\n",
    "## Sensor Specification\n",
    "\n",
    "- The sensor claims precision up to 450cm.\n",
    "- It has a frequency of 10Hz.\n",
    "\n",
    "## Code Setup\n",
    "\n",
    "### Imports\n",
    "\n",
    "To maintain a clean and organized notebook, various functionalities have been distributed into separate Python modules:\n",
    "\n",
    "- [`processing.py`](../src/data/processing.py) includes data processing functions.\n",
    "- [`loader.py`](../src/data/loader.py) aids in extracting sensor data from text files.\n",
    "- [`basic_graphs.py`](../src/graphing/basic_graphs.py) provides utilities for data visualization."
   ]
  },
  {
   "cell_type": "code",
   "execution_count": 1,
   "metadata": {},
   "outputs": [],
   "source": [
    "import pathlib\n",
    "\n",
    "import matplotlib.pyplot as plt\n",
    "import pandas as pd\n",
    "\n",
    "from cycling_safety_analysis.data import processing\n",
    "from cycling_safety_analysis.data.loader import FolderData\n",
    "from cycling_safety_analysis.graphing import basic_graphs"
   ]
  },
  {
   "cell_type": "markdown",
   "metadata": {},
   "source": [
    "### Data Preparation and Loading\n",
    "\n",
    "I define the list of actual distances measured and load the data files."
   ]
  },
  {
   "cell_type": "code",
   "execution_count": 2,
   "metadata": {},
   "outputs": [],
   "source": [
    "ACTUAL_DISTANCES = [0.5 * i for i in range(1, 7)]\n",
    "\n",
    "INDOORS_DATA_PATH = pathlib.Path(\"../data/processed/ultrasonic_basic_tests/indoors/\")\n",
    "OUTDOORS_DATA_PATH = pathlib.Path(\"../data/processed/ultrasonic_basic_tests/outdoors/\")\n",
    "\n",
    "indoors_data = FolderData(INDOORS_DATA_PATH)\n",
    "outdoors_data = FolderData(OUTDOORS_DATA_PATH)"
   ]
  },
  {
   "cell_type": "markdown",
   "metadata": {},
   "source": [
    "## Data Analysis\n",
    "\n",
    "### Accuracy Assessment\n",
    "\n",
    "- **Objective**: The sensor's accuracy is evaluated by comparing the mean measured distance to the actual distance at each interval.\n",
    "- **Explanation**: Accuracy in our tests refers to how close our measurements are to the true values.\n",
    "- **Analysis**: From the table below, we can see that the mean distance measured by the sensor at each interval, under both indoor and outdoor conditions, are nearly identical to that of the actual distance."
   ]
  },
  {
   "cell_type": "code",
   "execution_count": 3,
   "metadata": {},
   "outputs": [
    {
     "name": "stdout",
     "output_type": "stream",
     "text": [
      "9 6 6\n"
     ]
    },
    {
     "ename": "ValueError",
     "evalue": "All arrays must be of the same length",
     "output_type": "error",
     "traceback": [
      "\u001b[1;31m---------------------------------------------------------------------------\u001b[0m",
      "\u001b[1;31mValueError\u001b[0m                                Traceback (most recent call last)",
      "\u001b[1;32mc:\\Users\\wuihee\\Desktop\\Programming\\Projects\\Bike Sensor\\cycling-safety-analysis\\notebooks\\Ultrasonic_Basic_Tests.ipynb Cell 6\u001b[0m line \u001b[0;36m1\n\u001b[0;32m      <a href='vscode-notebook-cell:/c%3A/Users/wuihee/Desktop/Programming/Projects/Bike%20Sensor/cycling-safety-analysis/notebooks/Ultrasonic_Basic_Tests.ipynb#W6sZmlsZQ%3D%3D?line=3'>4</a>\u001b[0m \u001b[39mprint\u001b[39m(\u001b[39mlen\u001b[39m(indoors_mean), \u001b[39mlen\u001b[39m(outdoors_mean), \u001b[39mlen\u001b[39m(ACTUAL_DISTANCES))\n\u001b[0;32m      <a href='vscode-notebook-cell:/c%3A/Users/wuihee/Desktop/Programming/Projects/Bike%20Sensor/cycling-safety-analysis/notebooks/Ultrasonic_Basic_Tests.ipynb#W6sZmlsZQ%3D%3D?line=5'>6</a>\u001b[0m data \u001b[39m=\u001b[39m {\n\u001b[0;32m      <a href='vscode-notebook-cell:/c%3A/Users/wuihee/Desktop/Programming/Projects/Bike%20Sensor/cycling-safety-analysis/notebooks/Ultrasonic_Basic_Tests.ipynb#W6sZmlsZQ%3D%3D?line=6'>7</a>\u001b[0m     \u001b[39m\"\u001b[39m\u001b[39mActual Distance\u001b[39m\u001b[39m\"\u001b[39m: ACTUAL_DISTANCES,\n\u001b[0;32m      <a href='vscode-notebook-cell:/c%3A/Users/wuihee/Desktop/Programming/Projects/Bike%20Sensor/cycling-safety-analysis/notebooks/Ultrasonic_Basic_Tests.ipynb#W6sZmlsZQ%3D%3D?line=7'>8</a>\u001b[0m     \u001b[39m\"\u001b[39m\u001b[39mOutdoors Mean\u001b[39m\u001b[39m\"\u001b[39m: outdoors_mean,\n\u001b[0;32m      <a href='vscode-notebook-cell:/c%3A/Users/wuihee/Desktop/Programming/Projects/Bike%20Sensor/cycling-safety-analysis/notebooks/Ultrasonic_Basic_Tests.ipynb#W6sZmlsZQ%3D%3D?line=8'>9</a>\u001b[0m     \u001b[39m\"\u001b[39m\u001b[39mIndoors Mean\u001b[39m\u001b[39m\"\u001b[39m: indoors_mean,\n\u001b[0;32m     <a href='vscode-notebook-cell:/c%3A/Users/wuihee/Desktop/Programming/Projects/Bike%20Sensor/cycling-safety-analysis/notebooks/Ultrasonic_Basic_Tests.ipynb#W6sZmlsZQ%3D%3D?line=9'>10</a>\u001b[0m }\n\u001b[1;32m---> <a href='vscode-notebook-cell:/c%3A/Users/wuihee/Desktop/Programming/Projects/Bike%20Sensor/cycling-safety-analysis/notebooks/Ultrasonic_Basic_Tests.ipynb#W6sZmlsZQ%3D%3D?line=10'>11</a>\u001b[0m df \u001b[39m=\u001b[39m pd\u001b[39m.\u001b[39;49mDataFrame(data)\n\u001b[0;32m     <a href='vscode-notebook-cell:/c%3A/Users/wuihee/Desktop/Programming/Projects/Bike%20Sensor/cycling-safety-analysis/notebooks/Ultrasonic_Basic_Tests.ipynb#W6sZmlsZQ%3D%3D?line=11'>12</a>\u001b[0m display(df\u001b[39m.\u001b[39mT)\n",
      "File \u001b[1;32mc:\\Users\\wuihee\\Desktop\\Programming\\Projects\\Bike Sensor\\cycling-safety-analysis\\.venv\\Lib\\site-packages\\pandas\\core\\frame.py:736\u001b[0m, in \u001b[0;36mDataFrame.__init__\u001b[1;34m(self, data, index, columns, dtype, copy)\u001b[0m\n\u001b[0;32m    730\u001b[0m     mgr \u001b[39m=\u001b[39m \u001b[39mself\u001b[39m\u001b[39m.\u001b[39m_init_mgr(\n\u001b[0;32m    731\u001b[0m         data, axes\u001b[39m=\u001b[39m{\u001b[39m\"\u001b[39m\u001b[39mindex\u001b[39m\u001b[39m\"\u001b[39m: index, \u001b[39m\"\u001b[39m\u001b[39mcolumns\u001b[39m\u001b[39m\"\u001b[39m: columns}, dtype\u001b[39m=\u001b[39mdtype, copy\u001b[39m=\u001b[39mcopy\n\u001b[0;32m    732\u001b[0m     )\n\u001b[0;32m    734\u001b[0m \u001b[39melif\u001b[39;00m \u001b[39misinstance\u001b[39m(data, \u001b[39mdict\u001b[39m):\n\u001b[0;32m    735\u001b[0m     \u001b[39m# GH#38939 de facto copy defaults to False only in non-dict cases\u001b[39;00m\n\u001b[1;32m--> 736\u001b[0m     mgr \u001b[39m=\u001b[39m dict_to_mgr(data, index, columns, dtype\u001b[39m=\u001b[39;49mdtype, copy\u001b[39m=\u001b[39;49mcopy, typ\u001b[39m=\u001b[39;49mmanager)\n\u001b[0;32m    737\u001b[0m \u001b[39melif\u001b[39;00m \u001b[39misinstance\u001b[39m(data, ma\u001b[39m.\u001b[39mMaskedArray):\n\u001b[0;32m    738\u001b[0m     \u001b[39mfrom\u001b[39;00m \u001b[39mnumpy\u001b[39;00m\u001b[39m.\u001b[39;00m\u001b[39mma\u001b[39;00m \u001b[39mimport\u001b[39;00m mrecords\n",
      "File \u001b[1;32mc:\\Users\\wuihee\\Desktop\\Programming\\Projects\\Bike Sensor\\cycling-safety-analysis\\.venv\\Lib\\site-packages\\pandas\\core\\internals\\construction.py:503\u001b[0m, in \u001b[0;36mdict_to_mgr\u001b[1;34m(data, index, columns, dtype, typ, copy)\u001b[0m\n\u001b[0;32m    499\u001b[0m     \u001b[39melse\u001b[39;00m:\n\u001b[0;32m    500\u001b[0m         \u001b[39m# dtype check to exclude e.g. range objects, scalars\u001b[39;00m\n\u001b[0;32m    501\u001b[0m         arrays \u001b[39m=\u001b[39m [x\u001b[39m.\u001b[39mcopy() \u001b[39mif\u001b[39;00m \u001b[39mhasattr\u001b[39m(x, \u001b[39m\"\u001b[39m\u001b[39mdtype\u001b[39m\u001b[39m\"\u001b[39m) \u001b[39melse\u001b[39;00m x \u001b[39mfor\u001b[39;00m x \u001b[39min\u001b[39;00m arrays]\n\u001b[1;32m--> 503\u001b[0m \u001b[39mreturn\u001b[39;00m arrays_to_mgr(arrays, columns, index, dtype\u001b[39m=\u001b[39;49mdtype, typ\u001b[39m=\u001b[39;49mtyp, consolidate\u001b[39m=\u001b[39;49mcopy)\n",
      "File \u001b[1;32mc:\\Users\\wuihee\\Desktop\\Programming\\Projects\\Bike Sensor\\cycling-safety-analysis\\.venv\\Lib\\site-packages\\pandas\\core\\internals\\construction.py:114\u001b[0m, in \u001b[0;36marrays_to_mgr\u001b[1;34m(arrays, columns, index, dtype, verify_integrity, typ, consolidate)\u001b[0m\n\u001b[0;32m    111\u001b[0m \u001b[39mif\u001b[39;00m verify_integrity:\n\u001b[0;32m    112\u001b[0m     \u001b[39m# figure out the index, if necessary\u001b[39;00m\n\u001b[0;32m    113\u001b[0m     \u001b[39mif\u001b[39;00m index \u001b[39mis\u001b[39;00m \u001b[39mNone\u001b[39;00m:\n\u001b[1;32m--> 114\u001b[0m         index \u001b[39m=\u001b[39m _extract_index(arrays)\n\u001b[0;32m    115\u001b[0m     \u001b[39melse\u001b[39;00m:\n\u001b[0;32m    116\u001b[0m         index \u001b[39m=\u001b[39m ensure_index(index)\n",
      "File \u001b[1;32mc:\\Users\\wuihee\\Desktop\\Programming\\Projects\\Bike Sensor\\cycling-safety-analysis\\.venv\\Lib\\site-packages\\pandas\\core\\internals\\construction.py:677\u001b[0m, in \u001b[0;36m_extract_index\u001b[1;34m(data)\u001b[0m\n\u001b[0;32m    675\u001b[0m lengths \u001b[39m=\u001b[39m \u001b[39mlist\u001b[39m(\u001b[39mset\u001b[39m(raw_lengths))\n\u001b[0;32m    676\u001b[0m \u001b[39mif\u001b[39;00m \u001b[39mlen\u001b[39m(lengths) \u001b[39m>\u001b[39m \u001b[39m1\u001b[39m:\n\u001b[1;32m--> 677\u001b[0m     \u001b[39mraise\u001b[39;00m \u001b[39mValueError\u001b[39;00m(\u001b[39m\"\u001b[39m\u001b[39mAll arrays must be of the same length\u001b[39m\u001b[39m\"\u001b[39m)\n\u001b[0;32m    679\u001b[0m \u001b[39mif\u001b[39;00m have_dicts:\n\u001b[0;32m    680\u001b[0m     \u001b[39mraise\u001b[39;00m \u001b[39mValueError\u001b[39;00m(\n\u001b[0;32m    681\u001b[0m         \u001b[39m\"\u001b[39m\u001b[39mMixing dicts with non-Series may lead to ambiguous ordering.\u001b[39m\u001b[39m\"\u001b[39m\n\u001b[0;32m    682\u001b[0m     )\n",
      "\u001b[1;31mValueError\u001b[0m: All arrays must be of the same length"
     ]
    }
   ],
   "source": [
    "indoors_mean = processing.get_mean(indoors_data.distances)\n",
    "outdoors_mean = processing.get_mean(outdoors_data.distances)\n",
    "\n",
    "print(len(indoors_mean), len(outdoors_mean), len(ACTUAL_DISTANCES))\n",
    "\n",
    "data = {\n",
    "    \"Actual Distance\": ACTUAL_DISTANCES,\n",
    "    \"Outdoors Mean\": outdoors_mean,\n",
    "    \"Indoors Mean\": indoors_mean,\n",
    "}\n",
    "df = pd.DataFrame(data)\n",
    "display(df.T)"
   ]
  }
 ],
 "metadata": {
  "kernelspec": {
   "display_name": ".venv",
   "language": "python",
   "name": "python3"
  },
  "language_info": {
   "codemirror_mode": {
    "name": "ipython",
    "version": 3
   },
   "file_extension": ".py",
   "mimetype": "text/x-python",
   "name": "python",
   "nbconvert_exporter": "python",
   "pygments_lexer": "ipython3",
   "version": "3.11.2"
  }
 },
 "nbformat": 4,
 "nbformat_minor": 2
}
