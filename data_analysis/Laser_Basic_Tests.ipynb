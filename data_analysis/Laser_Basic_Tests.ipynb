{
  "cells": [
    {
      "cell_type": "markdown",
      "metadata": {},
      "source": [
        "# Laser Basic Tests\n",
        "\n",
        "## Objective\n",
        "\n",
        "The objective of this notebooks is to analyze the effectiveness of the JRT BB2X Laser Distance Sensor by Chengdu JRT Meter Technology Co. Ltd, at measuring distances of different lengths while stationary, under sunlight and dark conditions.\n",
        "\n",
        "## Overview\n",
        "\n",
        "- Like the TOF sensor's basic tests, I placed the sensor at fixed intervals of 0.5m, from 0.5m to 5.0m facing a wall, and allowed it to generate roughly 500 points of distance measurements.\n",
        "- Both tests were conducted outdoors, but one in the very early morning with no sunlight, and when at mid day when the sun was its brightest.\n",
        "- The data was collected through the default software provided and extracted into text files.\n",
        "\n",
        "### Documentation\n",
        "\n",
        "### Code\n",
        "\n",
        "- As before, much of the code has been separated into different modules:\n",
        "- [`data_loader`](./data_loader.py) contains helper functions to extract the data from the necessary files.\n",
        "- [`graphing`](./graphing.py) contains helper functions to plot the graphs below.\n",
        "- [`preprocessing`](./preprocessing.py) contains utility functions that manipulate the data."
      ]
    },
    {
      "cell_type": "code",
      "execution_count": 1,
      "metadata": {},
      "outputs": [],
      "source": [
        "import pathlib\n",
        "\n",
        "import matplotlib.pyplot as plt\n",
        "import pandas as pd\n",
        "\n",
        "from data_loader import get_laser_data_from_txt, get_data_from_folder\n",
        "from graphing import BasicGraphs\n",
        "from laser import Laser\n",
        "from preprocessing import DataCleaner, get_mean_measurements, get_standard_deviations"
      ]
    },
    {
      "cell_type": "code",
      "execution_count": 2,
      "metadata": {},
      "outputs": [],
      "source": [
        "graphs = BasicGraphs()\n",
        "data_cleaner = DataCleaner()\n",
        "laser_utils = Laser()"
      ]
    },
    {
      "cell_type": "code",
      "execution_count": 3,
      "metadata": {},
      "outputs": [
        {
          "ename": "ValueError",
          "evalue": "invalid literal for int() with base 16: ''",
          "output_type": "error",
          "traceback": [
            "\u001b[1;31m---------------------------------------------------------------------------\u001b[0m",
            "\u001b[1;31mValueError\u001b[0m                                Traceback (most recent call last)",
            "Cell \u001b[1;32mIn[3], line 7\u001b[0m\n\u001b[0;32m      5\u001b[0m \u001b[39mfor\u001b[39;00m i \u001b[39min\u001b[39;00m \u001b[39mrange\u001b[39m(\u001b[39mlen\u001b[39m(indoors_raw_data)):\n\u001b[0;32m      6\u001b[0m     \u001b[39mfor\u001b[39;00m j, protocol \u001b[39min\u001b[39;00m \u001b[39menumerate\u001b[39m(indoors_raw_data[i]):\n\u001b[1;32m----> 7\u001b[0m         distance \u001b[39m=\u001b[39m laser_utils\u001b[39m.\u001b[39;49mget_distance(protocol)\n\u001b[0;32m      8\u001b[0m         indoors_raw_data[i][j] \u001b[39m=\u001b[39m distance\n\u001b[0;32m     10\u001b[0m \u001b[39mprint\u001b[39m(indoors_raw_data)\n",
            "File \u001b[1;32mc:\\Users\\wuihee\\Desktop\\Programming\\Projects\\Bike Sensor\\Traffic-Data-Collection\\data_analysis\\laser.py:49\u001b[0m, in \u001b[0;36mLaser.get_distance\u001b[1;34m(self, protocol)\u001b[0m\n\u001b[0;32m     47\u001b[0m data \u001b[39m=\u001b[39m \u001b[39mself\u001b[39m\u001b[39m.\u001b[39mget_data(protocol)\n\u001b[0;32m     48\u001b[0m distance \u001b[39m=\u001b[39m \u001b[39m\"\u001b[39m\u001b[39m\"\u001b[39m\u001b[39m.\u001b[39mjoin(data[\u001b[39m7\u001b[39m:\u001b[39m10\u001b[39m])\n\u001b[1;32m---> 49\u001b[0m \u001b[39mreturn\u001b[39;00m \u001b[39mint\u001b[39;49m(distance, base\u001b[39m=\u001b[39;49m\u001b[39m16\u001b[39;49m)\n",
            "\u001b[1;31mValueError\u001b[0m: invalid literal for int() with base 16: ''"
          ]
        }
      ],
      "source": [
        "ACTUAL_DISTANCES = [0.5 * i for i in range(1, 11)]\n",
        "INDOORS_DATA_PATH = pathlib.Path(\"./data/laser_basic_tests/indoors/\")\n",
        "\n",
        "indoors_raw_data = get_data_from_folder(INDOORS_DATA_PATH, get_laser_data_from_txt)\n",
        "for i in range(len(indoors_raw_data)):\n",
        "    for j, protocol in enumerate(indoors_raw_data[i]):\n",
        "        distance = laser_utils.get_distance(protocol)\n",
        "        indoors_raw_data[i][j] = distance\n",
        "\n",
        "print(indoors_raw_data)"
      ]
    }
  ],
  "metadata": {
    "kernelspec": {
      "display_name": "venv",
      "language": "python",
      "name": "python3"
    },
    "language_info": {
      "codemirror_mode": {
        "name": "ipython",
        "version": 3
      },
      "file_extension": ".py",
      "mimetype": "text/x-python",
      "name": "python",
      "nbconvert_exporter": "python",
      "pygments_lexer": "ipython3",
      "version": "3.11.2"
    },
    "orig_nbformat": 4
  },
  "nbformat": 4,
  "nbformat_minor": 2
}
